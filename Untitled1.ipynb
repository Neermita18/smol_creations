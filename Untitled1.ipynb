{
  "nbformat": 4,
  "nbformat_minor": 0,
  "metadata": {
    "colab": {
      "provenance": [],
      "authorship_tag": "ABX9TyMjFIkxSb2QLhHTuaLgKTVk",
      "include_colab_link": true
    },
    "kernelspec": {
      "name": "python3",
      "display_name": "Python 3"
    },
    "language_info": {
      "name": "python"
    }
  },
  "cells": [
    {
      "cell_type": "markdown",
      "metadata": {
        "id": "view-in-github",
        "colab_type": "text"
      },
      "source": [
        "<a href=\"https://colab.research.google.com/github/Neermita18/smol_creations/blob/main/Untitled1.ipynb\" target=\"_parent\"><img src=\"https://colab.research.google.com/assets/colab-badge.svg\" alt=\"Open In Colab\"/></a>"
      ]
    },
    {
      "cell_type": "markdown",
      "source": [
        "## GIF Maker!"
      ],
      "metadata": {
        "id": "oIorkvHtUai0"
      }
    },
    {
      "cell_type": "code",
      "execution_count": 1,
      "metadata": {
        "id": "qs9xq0qTUT-J"
      },
      "outputs": [],
      "source": [
        "import imageio.v3 as iio"
      ]
    },
    {
      "cell_type": "code",
      "source": [
        "filenames = ['images.jpg', 'images2.jpg']\n",
        "images = [ ]\n",
        "\n",
        "for filename in filenames:\n",
        "  images.append(iio.imread(filename))\n",
        "\n",
        "iio.imwrite('team.gif', images, duration = 500, loop = 0)"
      ],
      "metadata": {
        "id": "RvtBAGxsVzCz"
      },
      "execution_count": 3,
      "outputs": []
    }
  ]
}